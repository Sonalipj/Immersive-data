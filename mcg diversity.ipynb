{
 "cells": [
  {
   "cell_type": "code",
   "execution_count": 2,
   "metadata": {},
   "outputs": [],
   "source": [
    "#import libraries\n",
    "import pandas as pd\n",
    "import numpy as np"
   ]
  },
  {
   "cell_type": "code",
   "execution_count": 3,
   "metadata": {},
   "outputs": [],
   "source": [
    "#load csv file data with headers\n",
    "\n",
    "location = \"MCG.csv\"\n",
    "df = pd.read_csv(location)"
   ]
  },
  {
   "cell_type": "code",
   "execution_count": 4,
   "metadata": {},
   "outputs": [
    {
     "data": {
      "text/html": [
       "<div>\n",
       "<style scoped>\n",
       "    .dataframe tbody tr th:only-of-type {\n",
       "        vertical-align: middle;\n",
       "    }\n",
       "\n",
       "    .dataframe tbody tr th {\n",
       "        vertical-align: top;\n",
       "    }\n",
       "\n",
       "    .dataframe thead th {\n",
       "        text-align: right;\n",
       "    }\n",
       "</style>\n",
       "<table border=\"1\" class=\"dataframe\">\n",
       "  <thead>\n",
       "    <tr style=\"text-align: right;\">\n",
       "      <th></th>\n",
       "      <th>Age</th>\n",
       "      <th>Length Of Service</th>\n",
       "    </tr>\n",
       "  </thead>\n",
       "  <tbody>\n",
       "    <tr>\n",
       "      <th>count</th>\n",
       "      <td>9243.000000</td>\n",
       "      <td>9243.000000</td>\n",
       "    </tr>\n",
       "    <tr>\n",
       "      <th>mean</th>\n",
       "      <td>47.217137</td>\n",
       "      <td>12.845072</td>\n",
       "    </tr>\n",
       "    <tr>\n",
       "      <th>std</th>\n",
       "      <td>12.042355</td>\n",
       "      <td>9.311613</td>\n",
       "    </tr>\n",
       "    <tr>\n",
       "      <th>min</th>\n",
       "      <td>20.000000</td>\n",
       "      <td>0.000000</td>\n",
       "    </tr>\n",
       "    <tr>\n",
       "      <th>25%</th>\n",
       "      <td>37.000000</td>\n",
       "      <td>5.000000</td>\n",
       "    </tr>\n",
       "    <tr>\n",
       "      <th>50%</th>\n",
       "      <td>48.000000</td>\n",
       "      <td>12.000000</td>\n",
       "    </tr>\n",
       "    <tr>\n",
       "      <th>75%</th>\n",
       "      <td>57.000000</td>\n",
       "      <td>19.000000</td>\n",
       "    </tr>\n",
       "    <tr>\n",
       "      <th>max</th>\n",
       "      <td>91.000000</td>\n",
       "      <td>54.000000</td>\n",
       "    </tr>\n",
       "  </tbody>\n",
       "</table>\n",
       "</div>"
      ],
      "text/plain": [
       "               Age  Length Of Service\n",
       "count  9243.000000        9243.000000\n",
       "mean     47.217137          12.845072\n",
       "std      12.042355           9.311613\n",
       "min      20.000000           0.000000\n",
       "25%      37.000000           5.000000\n",
       "50%      48.000000          12.000000\n",
       "75%      57.000000          19.000000\n",
       "max      91.000000          54.000000"
      ]
     },
     "execution_count": 4,
     "metadata": {},
     "output_type": "execute_result"
    }
   ],
   "source": [
    "#describe stats for the data\n",
    "df.describe()"
   ]
  },
  {
   "cell_type": "code",
   "execution_count": 5,
   "metadata": {},
   "outputs": [
    {
     "data": {
      "text/html": [
       "<div>\n",
       "<style scoped>\n",
       "    .dataframe tbody tr th:only-of-type {\n",
       "        vertical-align: middle;\n",
       "    }\n",
       "\n",
       "    .dataframe tbody tr th {\n",
       "        vertical-align: top;\n",
       "    }\n",
       "\n",
       "    .dataframe thead th {\n",
       "        text-align: right;\n",
       "    }\n",
       "</style>\n",
       "<table border=\"1\" class=\"dataframe\">\n",
       "  <thead>\n",
       "    <tr style=\"text-align: right;\">\n",
       "      <th></th>\n",
       "      <th>Generation</th>\n",
       "      <th>Age</th>\n",
       "      <th>Ethnic Origin</th>\n",
       "      <th>Gender</th>\n",
       "      <th>Length Of Service</th>\n",
       "      <th>Job Class</th>\n",
       "      <th>Grade</th>\n",
       "      <th>Assignment Category</th>\n",
       "      <th>Salary Range</th>\n",
       "    </tr>\n",
       "  </thead>\n",
       "  <tbody>\n",
       "    <tr>\n",
       "      <th>0</th>\n",
       "      <td>Generation X</td>\n",
       "      <td>42</td>\n",
       "      <td>White (Not Hispanic or Latino)</td>\n",
       "      <td>Female</td>\n",
       "      <td>14</td>\n",
       "      <td>NON_MLS</td>\n",
       "      <td>25</td>\n",
       "      <td>Fulltime-Regular</td>\n",
       "      <td>90-99K</td>\n",
       "    </tr>\n",
       "    <tr>\n",
       "      <th>1</th>\n",
       "      <td>Generation X</td>\n",
       "      <td>44</td>\n",
       "      <td>Hispanic or Latino</td>\n",
       "      <td>Male</td>\n",
       "      <td>1</td>\n",
       "      <td>NON_MLS</td>\n",
       "      <td>15</td>\n",
       "      <td>Fulltime-Regular</td>\n",
       "      <td>40-49K</td>\n",
       "    </tr>\n",
       "    <tr>\n",
       "      <th>2</th>\n",
       "      <td>Generation X</td>\n",
       "      <td>41</td>\n",
       "      <td>Black or African American (Not Hispanic or Lat...</td>\n",
       "      <td>Female</td>\n",
       "      <td>11</td>\n",
       "      <td>NON_MLS</td>\n",
       "      <td>15</td>\n",
       "      <td>Fulltime-Regular</td>\n",
       "      <td>50-59K</td>\n",
       "    </tr>\n",
       "    <tr>\n",
       "      <th>3</th>\n",
       "      <td>Generation X</td>\n",
       "      <td>47</td>\n",
       "      <td>White (Not Hispanic or Latino)</td>\n",
       "      <td>Male</td>\n",
       "      <td>12</td>\n",
       "      <td>NON_MLS</td>\n",
       "      <td>15</td>\n",
       "      <td>Fulltime-Regular</td>\n",
       "      <td>50-59K</td>\n",
       "    </tr>\n",
       "    <tr>\n",
       "      <th>4</th>\n",
       "      <td>Baby Boomers</td>\n",
       "      <td>59</td>\n",
       "      <td>Black or African American (Not Hispanic or Lat...</td>\n",
       "      <td>Female</td>\n",
       "      <td>2</td>\n",
       "      <td>NON_MLS</td>\n",
       "      <td>14</td>\n",
       "      <td>Fulltime-Regular</td>\n",
       "      <td>40-49K</td>\n",
       "    </tr>\n",
       "  </tbody>\n",
       "</table>\n",
       "</div>"
      ],
      "text/plain": [
       "     Generation  Age                                      Ethnic Origin  \\\n",
       "0  Generation X   42                     White (Not Hispanic or Latino)   \n",
       "1  Generation X   44                                 Hispanic or Latino   \n",
       "2  Generation X   41  Black or African American (Not Hispanic or Lat...   \n",
       "3  Generation X   47                     White (Not Hispanic or Latino)   \n",
       "4  Baby Boomers   59  Black or African American (Not Hispanic or Lat...   \n",
       "\n",
       "   Gender  Length Of Service Job Class Grade Assignment Category Salary Range  \n",
       "0  Female                 14   NON_MLS    25    Fulltime-Regular       90-99K  \n",
       "1    Male                  1   NON_MLS    15    Fulltime-Regular       40-49K  \n",
       "2  Female                 11   NON_MLS    15    Fulltime-Regular       50-59K  \n",
       "3    Male                 12   NON_MLS    15    Fulltime-Regular       50-59K  \n",
       "4  Female                  2   NON_MLS    14    Fulltime-Regular       40-49K  "
      ]
     },
     "execution_count": 5,
     "metadata": {},
     "output_type": "execute_result"
    }
   ],
   "source": [
    "df.head()"
   ]
  },
  {
   "cell_type": "code",
   "execution_count": 6,
   "metadata": {},
   "outputs": [
    {
     "data": {
      "text/html": [
       "<div>\n",
       "<style scoped>\n",
       "    .dataframe tbody tr th:only-of-type {\n",
       "        vertical-align: middle;\n",
       "    }\n",
       "\n",
       "    .dataframe tbody tr th {\n",
       "        vertical-align: top;\n",
       "    }\n",
       "\n",
       "    .dataframe thead th {\n",
       "        text-align: right;\n",
       "    }\n",
       "</style>\n",
       "<table border=\"1\" class=\"dataframe\">\n",
       "  <thead>\n",
       "    <tr style=\"text-align: right;\">\n",
       "      <th></th>\n",
       "      <th>Generation</th>\n",
       "      <th>Age</th>\n",
       "      <th>Ethnic Origin</th>\n",
       "      <th>Gender</th>\n",
       "      <th>Length Of Service</th>\n",
       "      <th>Job Class</th>\n",
       "      <th>Grade</th>\n",
       "      <th>Assignment Category</th>\n",
       "      <th>Salary Range</th>\n",
       "    </tr>\n",
       "  </thead>\n",
       "  <tbody>\n",
       "    <tr>\n",
       "      <th>9238</th>\n",
       "      <td>Millennial Generation</td>\n",
       "      <td>29</td>\n",
       "      <td>White (Not Hispanic or Latino)</td>\n",
       "      <td>Male</td>\n",
       "      <td>5</td>\n",
       "      <td>NON_MLS</td>\n",
       "      <td>P4</td>\n",
       "      <td>Fulltime-Regular</td>\n",
       "      <td>60-69K</td>\n",
       "    </tr>\n",
       "    <tr>\n",
       "      <th>9239</th>\n",
       "      <td>Millennial Generation</td>\n",
       "      <td>29</td>\n",
       "      <td>White (Not Hispanic or Latino)</td>\n",
       "      <td>Male</td>\n",
       "      <td>5</td>\n",
       "      <td>NON_MLS</td>\n",
       "      <td>P4</td>\n",
       "      <td>Fulltime-Regular</td>\n",
       "      <td>60-69K</td>\n",
       "    </tr>\n",
       "    <tr>\n",
       "      <th>9240</th>\n",
       "      <td>Millennial Generation</td>\n",
       "      <td>29</td>\n",
       "      <td>White (Not Hispanic or Latino)</td>\n",
       "      <td>Male</td>\n",
       "      <td>5</td>\n",
       "      <td>NON_MLS</td>\n",
       "      <td>P4</td>\n",
       "      <td>Fulltime-Regular</td>\n",
       "      <td>60-69K</td>\n",
       "    </tr>\n",
       "    <tr>\n",
       "      <th>9241</th>\n",
       "      <td>Millennial Generation</td>\n",
       "      <td>29</td>\n",
       "      <td>White (Not Hispanic or Latino)</td>\n",
       "      <td>Male</td>\n",
       "      <td>5</td>\n",
       "      <td>NON_MLS</td>\n",
       "      <td>P4</td>\n",
       "      <td>Fulltime-Regular</td>\n",
       "      <td>60-69K</td>\n",
       "    </tr>\n",
       "    <tr>\n",
       "      <th>9242</th>\n",
       "      <td>Generation X</td>\n",
       "      <td>51</td>\n",
       "      <td>Hispanic or Latino</td>\n",
       "      <td>Male</td>\n",
       "      <td>23</td>\n",
       "      <td>NON_MLS</td>\n",
       "      <td>P4</td>\n",
       "      <td>Fulltime-Regular</td>\n",
       "      <td>90-99K</td>\n",
       "    </tr>\n",
       "  </tbody>\n",
       "</table>\n",
       "</div>"
      ],
      "text/plain": [
       "                 Generation  Age                   Ethnic Origin Gender  \\\n",
       "9238  Millennial Generation   29  White (Not Hispanic or Latino)   Male   \n",
       "9239  Millennial Generation   29  White (Not Hispanic or Latino)   Male   \n",
       "9240  Millennial Generation   29  White (Not Hispanic or Latino)   Male   \n",
       "9241  Millennial Generation   29  White (Not Hispanic or Latino)   Male   \n",
       "9242           Generation X   51              Hispanic or Latino   Male   \n",
       "\n",
       "      Length Of Service Job Class Grade Assignment Category Salary Range  \n",
       "9238                  5   NON_MLS    P4    Fulltime-Regular       60-69K  \n",
       "9239                  5   NON_MLS    P4    Fulltime-Regular       60-69K  \n",
       "9240                  5   NON_MLS    P4    Fulltime-Regular       60-69K  \n",
       "9241                  5   NON_MLS    P4    Fulltime-Regular       60-69K  \n",
       "9242                 23   NON_MLS    P4    Fulltime-Regular       90-99K  "
      ]
     },
     "execution_count": 6,
     "metadata": {},
     "output_type": "execute_result"
    }
   ],
   "source": [
    "df.tail()"
   ]
  },
  {
   "cell_type": "code",
   "execution_count": 7,
   "metadata": {},
   "outputs": [
    {
     "data": {
      "text/plain": [
       "(9243, 9)"
      ]
     },
     "execution_count": 7,
     "metadata": {},
     "output_type": "execute_result"
    }
   ],
   "source": [
    "df.shape"
   ]
  },
  {
   "cell_type": "code",
   "execution_count": 8,
   "metadata": {},
   "outputs": [
    {
     "data": {
      "text/plain": [
       "Index(['Generation', 'Age', 'Ethnic Origin', 'Gender', 'Length Of Service',\n",
       "       'Job Class', 'Grade', 'Assignment Category', 'Salary Range'],\n",
       "      dtype='object')"
      ]
     },
     "execution_count": 8,
     "metadata": {},
     "output_type": "execute_result"
    }
   ],
   "source": [
    "#show the column names in the dataset\n",
    "df.columns"
   ]
  },
  {
   "cell_type": "code",
   "execution_count": 9,
   "metadata": {},
   "outputs": [
    {
     "data": {
      "text/plain": [
       "Generation             object\n",
       "Age                     int64\n",
       "Ethnic Origin          object\n",
       "Gender                 object\n",
       "Length Of Service       int64\n",
       "Job Class              object\n",
       "Grade                  object\n",
       "Assignment Category    object\n",
       "Salary Range           object\n",
       "dtype: object"
      ]
     },
     "execution_count": 9,
     "metadata": {},
     "output_type": "execute_result"
    }
   ],
   "source": [
    "#show the data type of each column\n",
    "df.dtypes"
   ]
  },
  {
   "cell_type": "code",
   "execution_count": 10,
   "metadata": {},
   "outputs": [
    {
     "data": {
      "text/plain": [
       "Generation             9243\n",
       "Age                    9243\n",
       "Ethnic Origin          9243\n",
       "Gender                 9243\n",
       "Length Of Service      9243\n",
       "Job Class              9243\n",
       "Grade                  9243\n",
       "Assignment Category    9243\n",
       "Salary Range           9243\n",
       "dtype: int64"
      ]
     },
     "execution_count": 10,
     "metadata": {},
     "output_type": "execute_result"
    }
   ],
   "source": [
    "#number of non-NA values\n",
    "#len(df) would count rows including NA values\n",
    "df.count()"
   ]
  },
  {
   "cell_type": "code",
   "execution_count": 12,
   "metadata": {},
   "outputs": [
    {
     "data": {
      "text/plain": [
       "47.21713729308666"
      ]
     },
     "execution_count": 12,
     "metadata": {},
     "output_type": "execute_result"
    }
   ],
   "source": [
    "df['Age'].mean()"
   ]
  },
  {
   "cell_type": "code",
   "execution_count": 13,
   "metadata": {},
   "outputs": [
    {
     "data": {
      "text/plain": [
       "20"
      ]
     },
     "execution_count": 13,
     "metadata": {},
     "output_type": "execute_result"
    }
   ],
   "source": [
    "df['Age'].min()"
   ]
  },
  {
   "cell_type": "code",
   "execution_count": 14,
   "metadata": {},
   "outputs": [
    {
     "data": {
      "text/plain": [
       "91"
      ]
     },
     "execution_count": 14,
     "metadata": {},
     "output_type": "execute_result"
    }
   ],
   "source": [
    "df['Age'].max()"
   ]
  },
  {
   "cell_type": "code",
   "execution_count": 19,
   "metadata": {},
   "outputs": [
    {
     "data": {
      "text/plain": [
       "49    295\n",
       "50    290\n",
       "52    264\n",
       "48    258\n",
       "55    257\n",
       "47    255\n",
       "56    254\n",
       "57    251\n",
       "58    248\n",
       "54    246\n",
       "51    245\n",
       "53    244\n",
       "46    237\n",
       "36    229\n",
       "39    229\n",
       "45    227\n",
       "34    226\n",
       "43    223\n",
       "40    222\n",
       "60    220\n",
       "41    217\n",
       "37    211\n",
       "42    211\n",
       "59    209\n",
       "38    209\n",
       "32    208\n",
       "61    208\n",
       "33    204\n",
       "35    193\n",
       "44    188\n",
       "     ... \n",
       "66    123\n",
       "26     90\n",
       "67     90\n",
       "68     79\n",
       "25     74\n",
       "70     58\n",
       "69     56\n",
       "71     40\n",
       "24     40\n",
       "72     27\n",
       "23     24\n",
       "22     16\n",
       "73     16\n",
       "74     14\n",
       "76     11\n",
       "21      6\n",
       "80      5\n",
       "79      5\n",
       "75      4\n",
       "77      4\n",
       "78      4\n",
       "81      3\n",
       "83      2\n",
       "20      2\n",
       "82      1\n",
       "90      1\n",
       "88      1\n",
       "85      1\n",
       "86      1\n",
       "91      1\n",
       "Name: Age, Length: 69, dtype: int64"
      ]
     },
     "execution_count": 19,
     "metadata": {},
     "output_type": "execute_result"
    }
   ],
   "source": [
    "#Age frequency\n",
    "df['Age'].value_counts()"
   ]
  },
  {
   "cell_type": "code",
   "execution_count": 17,
   "metadata": {},
   "outputs": [
    {
     "data": {
      "text/plain": [
       "48.0"
      ]
     },
     "execution_count": 17,
     "metadata": {},
     "output_type": "execute_result"
    }
   ],
   "source": [
    "df['Age'].median()"
   ]
  },
  {
   "cell_type": "code",
   "execution_count": 18,
   "metadata": {},
   "outputs": [
    {
     "data": {
      "text/plain": [
       "47.21713729308666"
      ]
     },
     "execution_count": 18,
     "metadata": {},
     "output_type": "execute_result"
    }
   ],
   "source": [
    "df['Age'].mean()"
   ]
  },
  {
   "cell_type": "code",
   "execution_count": 22,
   "metadata": {},
   "outputs": [
    {
     "data": {
      "text/plain": [
       "12.042354766224056"
      ]
     },
     "execution_count": 22,
     "metadata": {},
     "output_type": "execute_result"
    }
   ],
   "source": [
    "#standard deviation\n",
    "df['Age'].std()"
   ]
  },
  {
   "cell_type": "code",
   "execution_count": 23,
   "metadata": {},
   "outputs": [
    {
     "name": "stdout",
     "output_type": "stream",
     "text": [
      "<pandas.core.groupby.generic.DataFrameGroupBy object at 0x000002418839EBA8>\n"
     ]
    }
   ],
   "source": [
    "print(df.groupby('Gender'))"
   ]
  },
  {
   "cell_type": "code",
   "execution_count": 24,
   "metadata": {},
   "outputs": [
    {
     "data": {
      "text/html": [
       "<div>\n",
       "<style scoped>\n",
       "    .dataframe tbody tr th:only-of-type {\n",
       "        vertical-align: middle;\n",
       "    }\n",
       "\n",
       "    .dataframe tbody tr th {\n",
       "        vertical-align: top;\n",
       "    }\n",
       "\n",
       "    .dataframe thead th {\n",
       "        text-align: right;\n",
       "    }\n",
       "</style>\n",
       "<table border=\"1\" class=\"dataframe\">\n",
       "  <thead>\n",
       "    <tr style=\"text-align: right;\">\n",
       "      <th></th>\n",
       "      <th></th>\n",
       "      <th>Length Of Service</th>\n",
       "    </tr>\n",
       "    <tr>\n",
       "      <th>Gender</th>\n",
       "      <th>Age</th>\n",
       "      <th></th>\n",
       "    </tr>\n",
       "  </thead>\n",
       "  <tbody>\n",
       "    <tr>\n",
       "      <th rowspan=\"30\" valign=\"top\">Female</th>\n",
       "      <th>20</th>\n",
       "      <td>1.000000</td>\n",
       "    </tr>\n",
       "    <tr>\n",
       "      <th>21</th>\n",
       "      <td>1.500000</td>\n",
       "    </tr>\n",
       "    <tr>\n",
       "      <th>22</th>\n",
       "      <td>1.000000</td>\n",
       "    </tr>\n",
       "    <tr>\n",
       "      <th>23</th>\n",
       "      <td>1.500000</td>\n",
       "    </tr>\n",
       "    <tr>\n",
       "      <th>24</th>\n",
       "      <td>1.500000</td>\n",
       "    </tr>\n",
       "    <tr>\n",
       "      <th>25</th>\n",
       "      <td>1.869565</td>\n",
       "    </tr>\n",
       "    <tr>\n",
       "      <th>26</th>\n",
       "      <td>2.153846</td>\n",
       "    </tr>\n",
       "    <tr>\n",
       "      <th>27</th>\n",
       "      <td>2.718750</td>\n",
       "    </tr>\n",
       "    <tr>\n",
       "      <th>28</th>\n",
       "      <td>3.193548</td>\n",
       "    </tr>\n",
       "    <tr>\n",
       "      <th>29</th>\n",
       "      <td>3.473684</td>\n",
       "    </tr>\n",
       "    <tr>\n",
       "      <th>30</th>\n",
       "      <td>3.419355</td>\n",
       "    </tr>\n",
       "    <tr>\n",
       "      <th>31</th>\n",
       "      <td>3.953846</td>\n",
       "    </tr>\n",
       "    <tr>\n",
       "      <th>32</th>\n",
       "      <td>4.270270</td>\n",
       "    </tr>\n",
       "    <tr>\n",
       "      <th>33</th>\n",
       "      <td>4.753623</td>\n",
       "    </tr>\n",
       "    <tr>\n",
       "      <th>34</th>\n",
       "      <td>5.385714</td>\n",
       "    </tr>\n",
       "    <tr>\n",
       "      <th>35</th>\n",
       "      <td>6.291667</td>\n",
       "    </tr>\n",
       "    <tr>\n",
       "      <th>36</th>\n",
       "      <td>6.450000</td>\n",
       "    </tr>\n",
       "    <tr>\n",
       "      <th>37</th>\n",
       "      <td>7.298507</td>\n",
       "    </tr>\n",
       "    <tr>\n",
       "      <th>38</th>\n",
       "      <td>8.040000</td>\n",
       "    </tr>\n",
       "    <tr>\n",
       "      <th>39</th>\n",
       "      <td>8.584270</td>\n",
       "    </tr>\n",
       "    <tr>\n",
       "      <th>40</th>\n",
       "      <td>9.653846</td>\n",
       "    </tr>\n",
       "    <tr>\n",
       "      <th>41</th>\n",
       "      <td>9.328767</td>\n",
       "    </tr>\n",
       "    <tr>\n",
       "      <th>42</th>\n",
       "      <td>9.574713</td>\n",
       "    </tr>\n",
       "    <tr>\n",
       "      <th>43</th>\n",
       "      <td>9.833333</td>\n",
       "    </tr>\n",
       "    <tr>\n",
       "      <th>44</th>\n",
       "      <td>8.907692</td>\n",
       "    </tr>\n",
       "    <tr>\n",
       "      <th>45</th>\n",
       "      <td>9.905882</td>\n",
       "    </tr>\n",
       "    <tr>\n",
       "      <th>46</th>\n",
       "      <td>11.963855</td>\n",
       "    </tr>\n",
       "    <tr>\n",
       "      <th>47</th>\n",
       "      <td>10.752809</td>\n",
       "    </tr>\n",
       "    <tr>\n",
       "      <th>48</th>\n",
       "      <td>11.300000</td>\n",
       "    </tr>\n",
       "    <tr>\n",
       "      <th>49</th>\n",
       "      <td>14.136364</td>\n",
       "    </tr>\n",
       "    <tr>\n",
       "      <th>...</th>\n",
       "      <th>...</th>\n",
       "      <td>...</td>\n",
       "    </tr>\n",
       "    <tr>\n",
       "      <th rowspan=\"30\" valign=\"top\">Male</th>\n",
       "      <th>55</th>\n",
       "      <td>16.465649</td>\n",
       "    </tr>\n",
       "    <tr>\n",
       "      <th>56</th>\n",
       "      <td>17.424242</td>\n",
       "    </tr>\n",
       "    <tr>\n",
       "      <th>57</th>\n",
       "      <td>16.935714</td>\n",
       "    </tr>\n",
       "    <tr>\n",
       "      <th>58</th>\n",
       "      <td>17.480000</td>\n",
       "    </tr>\n",
       "    <tr>\n",
       "      <th>59</th>\n",
       "      <td>17.718447</td>\n",
       "    </tr>\n",
       "    <tr>\n",
       "      <th>60</th>\n",
       "      <td>17.770642</td>\n",
       "    </tr>\n",
       "    <tr>\n",
       "      <th>61</th>\n",
       "      <td>17.716981</td>\n",
       "    </tr>\n",
       "    <tr>\n",
       "      <th>62</th>\n",
       "      <td>18.269231</td>\n",
       "    </tr>\n",
       "    <tr>\n",
       "      <th>63</th>\n",
       "      <td>18.238636</td>\n",
       "    </tr>\n",
       "    <tr>\n",
       "      <th>64</th>\n",
       "      <td>17.060976</td>\n",
       "    </tr>\n",
       "    <tr>\n",
       "      <th>65</th>\n",
       "      <td>17.018519</td>\n",
       "    </tr>\n",
       "    <tr>\n",
       "      <th>66</th>\n",
       "      <td>17.250000</td>\n",
       "    </tr>\n",
       "    <tr>\n",
       "      <th>67</th>\n",
       "      <td>17.947368</td>\n",
       "    </tr>\n",
       "    <tr>\n",
       "      <th>68</th>\n",
       "      <td>19.166667</td>\n",
       "    </tr>\n",
       "    <tr>\n",
       "      <th>69</th>\n",
       "      <td>16.090909</td>\n",
       "    </tr>\n",
       "    <tr>\n",
       "      <th>70</th>\n",
       "      <td>16.000000</td>\n",
       "    </tr>\n",
       "    <tr>\n",
       "      <th>71</th>\n",
       "      <td>17.111111</td>\n",
       "    </tr>\n",
       "    <tr>\n",
       "      <th>72</th>\n",
       "      <td>19.411765</td>\n",
       "    </tr>\n",
       "    <tr>\n",
       "      <th>73</th>\n",
       "      <td>15.333333</td>\n",
       "    </tr>\n",
       "    <tr>\n",
       "      <th>74</th>\n",
       "      <td>17.833333</td>\n",
       "    </tr>\n",
       "    <tr>\n",
       "      <th>75</th>\n",
       "      <td>10.500000</td>\n",
       "    </tr>\n",
       "    <tr>\n",
       "      <th>76</th>\n",
       "      <td>25.714286</td>\n",
       "    </tr>\n",
       "    <tr>\n",
       "      <th>78</th>\n",
       "      <td>12.500000</td>\n",
       "    </tr>\n",
       "    <tr>\n",
       "      <th>79</th>\n",
       "      <td>26.000000</td>\n",
       "    </tr>\n",
       "    <tr>\n",
       "      <th>80</th>\n",
       "      <td>16.333333</td>\n",
       "    </tr>\n",
       "    <tr>\n",
       "      <th>81</th>\n",
       "      <td>34.000000</td>\n",
       "    </tr>\n",
       "    <tr>\n",
       "      <th>85</th>\n",
       "      <td>12.000000</td>\n",
       "    </tr>\n",
       "    <tr>\n",
       "      <th>88</th>\n",
       "      <td>18.000000</td>\n",
       "    </tr>\n",
       "    <tr>\n",
       "      <th>90</th>\n",
       "      <td>17.000000</td>\n",
       "    </tr>\n",
       "    <tr>\n",
       "      <th>91</th>\n",
       "      <td>11.000000</td>\n",
       "    </tr>\n",
       "  </tbody>\n",
       "</table>\n",
       "<p>129 rows × 1 columns</p>\n",
       "</div>"
      ],
      "text/plain": [
       "            Length Of Service\n",
       "Gender Age                   \n",
       "Female 20            1.000000\n",
       "       21            1.500000\n",
       "       22            1.000000\n",
       "       23            1.500000\n",
       "       24            1.500000\n",
       "       25            1.869565\n",
       "       26            2.153846\n",
       "       27            2.718750\n",
       "       28            3.193548\n",
       "       29            3.473684\n",
       "       30            3.419355\n",
       "       31            3.953846\n",
       "       32            4.270270\n",
       "       33            4.753623\n",
       "       34            5.385714\n",
       "       35            6.291667\n",
       "       36            6.450000\n",
       "       37            7.298507\n",
       "       38            8.040000\n",
       "       39            8.584270\n",
       "       40            9.653846\n",
       "       41            9.328767\n",
       "       42            9.574713\n",
       "       43            9.833333\n",
       "       44            8.907692\n",
       "       45            9.905882\n",
       "       46           11.963855\n",
       "       47           10.752809\n",
       "       48           11.300000\n",
       "       49           14.136364\n",
       "...                       ...\n",
       "Male   55           16.465649\n",
       "       56           17.424242\n",
       "       57           16.935714\n",
       "       58           17.480000\n",
       "       59           17.718447\n",
       "       60           17.770642\n",
       "       61           17.716981\n",
       "       62           18.269231\n",
       "       63           18.238636\n",
       "       64           17.060976\n",
       "       65           17.018519\n",
       "       66           17.250000\n",
       "       67           17.947368\n",
       "       68           19.166667\n",
       "       69           16.090909\n",
       "       70           16.000000\n",
       "       71           17.111111\n",
       "       72           19.411765\n",
       "       73           15.333333\n",
       "       74           17.833333\n",
       "       75           10.500000\n",
       "       76           25.714286\n",
       "       78           12.500000\n",
       "       79           26.000000\n",
       "       80           16.333333\n",
       "       81           34.000000\n",
       "       85           12.000000\n",
       "       88           18.000000\n",
       "       90           17.000000\n",
       "       91           11.000000\n",
       "\n",
       "[129 rows x 1 columns]"
      ]
     },
     "execution_count": 24,
     "metadata": {},
     "output_type": "execute_result"
    }
   ],
   "source": [
    "#use two columns to groupby\n",
    "df.groupby(['Gender', 'Age']).mean()"
   ]
  },
  {
   "cell_type": "code",
   "execution_count": 28,
   "metadata": {},
   "outputs": [
    {
     "data": {
      "text/html": [
       "<div>\n",
       "<style scoped>\n",
       "    .dataframe tbody tr th:only-of-type {\n",
       "        vertical-align: middle;\n",
       "    }\n",
       "\n",
       "    .dataframe tbody tr th {\n",
       "        vertical-align: top;\n",
       "    }\n",
       "\n",
       "    .dataframe thead th {\n",
       "        text-align: right;\n",
       "    }\n",
       "</style>\n",
       "<table border=\"1\" class=\"dataframe\">\n",
       "  <thead>\n",
       "    <tr style=\"text-align: right;\">\n",
       "      <th></th>\n",
       "      <th>Age</th>\n",
       "    </tr>\n",
       "    <tr>\n",
       "      <th>Gender</th>\n",
       "      <th></th>\n",
       "    </tr>\n",
       "  </thead>\n",
       "  <tbody>\n",
       "    <tr>\n",
       "      <th>Female</th>\n",
       "      <td>49.437216</td>\n",
       "    </tr>\n",
       "    <tr>\n",
       "      <th>Male</th>\n",
       "      <td>45.711692</td>\n",
       "    </tr>\n",
       "  </tbody>\n",
       "</table>\n",
       "</div>"
      ],
      "text/plain": [
       "              Age\n",
       "Gender           \n",
       "Female  49.437216\n",
       "Male    45.711692"
      ]
     },
     "execution_count": 28,
     "metadata": {},
     "output_type": "execute_result"
    }
   ],
   "source": [
    "#Mean age by gender\n",
    "pd.pivot_table(df, values=['Age'], index=['Gender'])"
   ]
  },
  {
   "cell_type": "code",
   "execution_count": 29,
   "metadata": {},
   "outputs": [
    {
     "data": {
      "text/plain": [
       "array([42, 44, 41, 47, 59, 73, 60, 50, 39, 40, 58, 65, 49, 38, 45, 36, 57,\n",
       "       56, 29, 46, 43, 51, 52, 48, 33, 55, 25, 35, 79, 62, 74, 32, 34, 28,\n",
       "       69, 54, 66, 37, 26, 53, 30, 61, 27, 63, 68, 64, 70, 24, 77, 31, 72,\n",
       "       71, 22, 21, 67, 80, 75, 23, 78, 20, 88, 76, 83, 85, 86, 82, 81, 90,\n",
       "       91], dtype=int64)"
      ]
     },
     "execution_count": 29,
     "metadata": {},
     "output_type": "execute_result"
    }
   ],
   "source": [
    "df['Age'].unique()"
   ]
  },
  {
   "cell_type": "code",
   "execution_count": 32,
   "metadata": {},
   "outputs": [],
   "source": [
    "#find missing values\n",
    "filename = \"MCG.csv\"\n",
    "df_missing = pd.read_csv(filename)"
   ]
  },
  {
   "cell_type": "code",
   "execution_count": 33,
   "metadata": {},
   "outputs": [
    {
     "data": {
      "text/plain": [
       "Generation             0\n",
       "Age                    0\n",
       "Ethnic Origin          0\n",
       "Gender                 0\n",
       "Length Of Service      0\n",
       "Job Class              0\n",
       "Grade                  0\n",
       "Assignment Category    0\n",
       "Salary Range           0\n",
       "dtype: int64"
      ]
     },
     "execution_count": 33,
     "metadata": {},
     "output_type": "execute_result"
    }
   ],
   "source": [
    "#total missing values\n",
    "df_missing.isnull().sum()"
   ]
  },
  {
   "cell_type": "code",
   "execution_count": 36,
   "metadata": {},
   "outputs": [],
   "source": [
    "#Unique grade values employees\n",
    "grade = df['Grade'].unique()"
   ]
  },
  {
   "cell_type": "code",
   "execution_count": 37,
   "metadata": {},
   "outputs": [
    {
     "name": "stdout",
     "output_type": "stream",
     "text": [
      "70\n"
     ]
    }
   ],
   "source": [
    "print(len(grade))"
   ]
  },
  {
   "cell_type": "code",
   "execution_count": 38,
   "metadata": {},
   "outputs": [
    {
     "data": {
      "text/plain": [
       "(9243, 9)"
      ]
     },
     "execution_count": 38,
     "metadata": {},
     "output_type": "execute_result"
    }
   ],
   "source": [
    "df.shape"
   ]
  },
  {
   "cell_type": "code",
   "execution_count": 40,
   "metadata": {},
   "outputs": [
    {
     "data": {
      "text/plain": [
       "(9243, 9)"
      ]
     },
     "execution_count": 40,
     "metadata": {},
     "output_type": "execute_result"
    }
   ],
   "source": [
    "df_missing.shape\n",
    "#no missing values"
   ]
  },
  {
   "cell_type": "code",
   "execution_count": 46,
   "metadata": {},
   "outputs": [],
   "source": [
    "#float(df['Salary Range']).median()"
   ]
  },
  {
   "cell_type": "code",
   "execution_count": 50,
   "metadata": {},
   "outputs": [
    {
     "name": "stdout",
     "output_type": "stream",
     "text": [
      "['90-99K' '40-49K' '50-59K' '>=150K' '70-79K' '130-139K' '80-89K' '60-69K'\n",
      " '100-109K' '110-119K' '140-149K' 'UnAssigned' '30-39K' '120-129K'\n",
      " '20-29K' '<20K']\n"
     ]
    }
   ],
   "source": [
    "#Count number of unique salary ranges\n",
    "salary = df['Salary Range'].unique()\n",
    "print(salary)"
   ]
  },
  {
   "cell_type": "code",
   "execution_count": 51,
   "metadata": {},
   "outputs": [
    {
     "data": {
      "text/plain": [
       "dtype('O')"
      ]
     },
     "execution_count": 51,
     "metadata": {},
     "output_type": "execute_result"
    }
   ],
   "source": [
    "df['Salary Range'].dtypes"
   ]
  },
  {
   "cell_type": "code",
   "execution_count": null,
   "metadata": {},
   "outputs": [],
   "source": [
    "# Create names for the four groups\n",
    "group_names = ['F', 'D', 'C', 'B', 'A']\n",
    "\n",
    "#make new column with letter grades\n",
    "df['lettergrade'] = pd.cut(df['grade'], bins, labels=group_names)\n",
    "df.head()"
   ]
  },
  {
   "cell_type": "code",
   "execution_count": 53,
   "metadata": {},
   "outputs": [
    {
     "data": {
      "text/plain": [
       "60-69K        1265\n",
       "70-79K        1263\n",
       "50-59K        1179\n",
       "90-99K        1119\n",
       "80-89K         978\n",
       "40-49K         839\n",
       "100-109K       824\n",
       "110-119K       348\n",
       "30-39K         298\n",
       "120-129K       275\n",
       "20-29K         197\n",
       ">=150K         182\n",
       "140-149K       146\n",
       "130-139K       133\n",
       "UnAssigned     113\n",
       "<20K            84\n",
       "Name: Salary Range, dtype: int64"
      ]
     },
     "execution_count": 53,
     "metadata": {},
     "output_type": "execute_result"
    }
   ],
   "source": [
    "df['Salary Range'].value_counts()"
   ]
  },
  {
   "cell_type": "code",
   "execution_count": 54,
   "metadata": {},
   "outputs": [
    {
     "data": {
      "text/plain": [
       "White (Not Hispanic or Latino)                                 4501\n",
       "Black or African American (Not Hispanic or Latino)             2469\n",
       "Hispanic or Latino                                              972\n",
       "Asian (Not Hispanic or Latino)                                  629\n",
       "Unreported                                                      525\n",
       "Two or More Races (Not Hispanic or Latino)                      104\n",
       "American Indian or Alaska Native (Not Hispanic or Latino)        34\n",
       "Native Hawaiian/Other Pacific Islander(Not Hispanic/Latino)       9\n",
       "Name: Ethnic Origin, dtype: int64"
      ]
     },
     "execution_count": 54,
     "metadata": {},
     "output_type": "execute_result"
    }
   ],
   "source": [
    "df['Ethnic Origin'].value_counts()"
   ]
  },
  {
   "cell_type": "code",
   "execution_count": 55,
   "metadata": {},
   "outputs": [
    {
     "data": {
      "text/html": [
       "<div>\n",
       "<style scoped>\n",
       "    .dataframe tbody tr th:only-of-type {\n",
       "        vertical-align: middle;\n",
       "    }\n",
       "\n",
       "    .dataframe tbody tr th {\n",
       "        vertical-align: top;\n",
       "    }\n",
       "\n",
       "    .dataframe thead th {\n",
       "        text-align: right;\n",
       "    }\n",
       "</style>\n",
       "<table border=\"1\" class=\"dataframe\">\n",
       "  <thead>\n",
       "    <tr style=\"text-align: right;\">\n",
       "      <th></th>\n",
       "      <th></th>\n",
       "      <th>Age</th>\n",
       "      <th>Length Of Service</th>\n",
       "    </tr>\n",
       "    <tr>\n",
       "      <th>Gender</th>\n",
       "      <th>Ethnic Origin</th>\n",
       "      <th></th>\n",
       "      <th></th>\n",
       "    </tr>\n",
       "  </thead>\n",
       "  <tbody>\n",
       "    <tr>\n",
       "      <th rowspan=\"8\" valign=\"top\">Female</th>\n",
       "      <th>American Indian or Alaska Native (Not Hispanic or Latino)</th>\n",
       "      <td>46.666667</td>\n",
       "      <td>13.444444</td>\n",
       "    </tr>\n",
       "    <tr>\n",
       "      <th>Asian (Not Hispanic or Latino)</th>\n",
       "      <td>51.801205</td>\n",
       "      <td>12.888554</td>\n",
       "    </tr>\n",
       "    <tr>\n",
       "      <th>Black or African American (Not Hispanic or Latino)</th>\n",
       "      <td>49.185756</td>\n",
       "      <td>12.883542</td>\n",
       "    </tr>\n",
       "    <tr>\n",
       "      <th>Hispanic or Latino</th>\n",
       "      <td>46.193684</td>\n",
       "      <td>11.376842</td>\n",
       "    </tr>\n",
       "    <tr>\n",
       "      <th>Native Hawaiian/Other Pacific Islander(Not Hispanic/Latino)</th>\n",
       "      <td>43.000000</td>\n",
       "      <td>18.000000</td>\n",
       "    </tr>\n",
       "    <tr>\n",
       "      <th>Two or More Races (Not Hispanic or Latino)</th>\n",
       "      <td>39.407407</td>\n",
       "      <td>5.166667</td>\n",
       "    </tr>\n",
       "    <tr>\n",
       "      <th>Unreported</th>\n",
       "      <td>43.411765</td>\n",
       "      <td>5.759804</td>\n",
       "    </tr>\n",
       "    <tr>\n",
       "      <th>White (Not Hispanic or Latino)</th>\n",
       "      <td>51.176434</td>\n",
       "      <td>14.735965</td>\n",
       "    </tr>\n",
       "    <tr>\n",
       "      <th rowspan=\"8\" valign=\"top\">Male</th>\n",
       "      <th>American Indian or Alaska Native (Not Hispanic or Latino)</th>\n",
       "      <td>45.080000</td>\n",
       "      <td>17.880000</td>\n",
       "    </tr>\n",
       "    <tr>\n",
       "      <th>Asian (Not Hispanic or Latino)</th>\n",
       "      <td>48.572391</td>\n",
       "      <td>11.542088</td>\n",
       "    </tr>\n",
       "    <tr>\n",
       "      <th>Black or African American (Not Hispanic or Latino)</th>\n",
       "      <td>48.546154</td>\n",
       "      <td>11.924476</td>\n",
       "    </tr>\n",
       "    <tr>\n",
       "      <th>Hispanic or Latino</th>\n",
       "      <td>43.907445</td>\n",
       "      <td>10.814889</td>\n",
       "    </tr>\n",
       "    <tr>\n",
       "      <th>Native Hawaiian/Other Pacific Islander(Not Hispanic/Latino)</th>\n",
       "      <td>45.375000</td>\n",
       "      <td>10.750000</td>\n",
       "    </tr>\n",
       "    <tr>\n",
       "      <th>Two or More Races (Not Hispanic or Latino)</th>\n",
       "      <td>36.020000</td>\n",
       "      <td>4.560000</td>\n",
       "    </tr>\n",
       "    <tr>\n",
       "      <th>Unreported</th>\n",
       "      <td>40.816199</td>\n",
       "      <td>6.286604</td>\n",
       "    </tr>\n",
       "    <tr>\n",
       "      <th>White (Not Hispanic or Latino)</th>\n",
       "      <td>45.040972</td>\n",
       "      <td>14.425000</td>\n",
       "    </tr>\n",
       "  </tbody>\n",
       "</table>\n",
       "</div>"
      ],
      "text/plain": [
       "                                                                 Age  \\\n",
       "Gender Ethnic Origin                                                   \n",
       "Female American Indian or Alaska Native (Not Hispanic ...  46.666667   \n",
       "       Asian (Not Hispanic or Latino)                      51.801205   \n",
       "       Black or African American (Not Hispanic or Latino)  49.185756   \n",
       "       Hispanic or Latino                                  46.193684   \n",
       "       Native Hawaiian/Other Pacific Islander(Not Hisp...  43.000000   \n",
       "       Two or More Races (Not Hispanic or Latino)          39.407407   \n",
       "       Unreported                                          43.411765   \n",
       "       White (Not Hispanic or Latino)                      51.176434   \n",
       "Male   American Indian or Alaska Native (Not Hispanic ...  45.080000   \n",
       "       Asian (Not Hispanic or Latino)                      48.572391   \n",
       "       Black or African American (Not Hispanic or Latino)  48.546154   \n",
       "       Hispanic or Latino                                  43.907445   \n",
       "       Native Hawaiian/Other Pacific Islander(Not Hisp...  45.375000   \n",
       "       Two or More Races (Not Hispanic or Latino)          36.020000   \n",
       "       Unreported                                          40.816199   \n",
       "       White (Not Hispanic or Latino)                      45.040972   \n",
       "\n",
       "                                                           Length Of Service  \n",
       "Gender Ethnic Origin                                                          \n",
       "Female American Indian or Alaska Native (Not Hispanic ...          13.444444  \n",
       "       Asian (Not Hispanic or Latino)                              12.888554  \n",
       "       Black or African American (Not Hispanic or Latino)          12.883542  \n",
       "       Hispanic or Latino                                          11.376842  \n",
       "       Native Hawaiian/Other Pacific Islander(Not Hisp...          18.000000  \n",
       "       Two or More Races (Not Hispanic or Latino)                   5.166667  \n",
       "       Unreported                                                   5.759804  \n",
       "       White (Not Hispanic or Latino)                              14.735965  \n",
       "Male   American Indian or Alaska Native (Not Hispanic ...          17.880000  \n",
       "       Asian (Not Hispanic or Latino)                              11.542088  \n",
       "       Black or African American (Not Hispanic or Latino)          11.924476  \n",
       "       Hispanic or Latino                                          10.814889  \n",
       "       Native Hawaiian/Other Pacific Islander(Not Hisp...          10.750000  \n",
       "       Two or More Races (Not Hispanic or Latino)                   4.560000  \n",
       "       Unreported                                                   6.286604  \n",
       "       White (Not Hispanic or Latino)                              14.425000  "
      ]
     },
     "execution_count": 55,
     "metadata": {},
     "output_type": "execute_result"
    }
   ],
   "source": [
    "df.groupby(['Gender', 'Ethnic Origin']).mean()"
   ]
  },
  {
   "cell_type": "code",
   "execution_count": 56,
   "metadata": {},
   "outputs": [
    {
     "data": {
      "text/html": [
       "<div>\n",
       "<style scoped>\n",
       "    .dataframe tbody tr th:only-of-type {\n",
       "        vertical-align: middle;\n",
       "    }\n",
       "\n",
       "    .dataframe tbody tr th {\n",
       "        vertical-align: top;\n",
       "    }\n",
       "\n",
       "    .dataframe thead th {\n",
       "        text-align: right;\n",
       "    }\n",
       "</style>\n",
       "<table border=\"1\" class=\"dataframe\">\n",
       "  <thead>\n",
       "    <tr style=\"text-align: right;\">\n",
       "      <th></th>\n",
       "      <th>Generation</th>\n",
       "      <th>Age</th>\n",
       "      <th>Ethnic Origin</th>\n",
       "      <th>Gender</th>\n",
       "      <th>Length Of Service</th>\n",
       "      <th>Job Class</th>\n",
       "      <th>Grade</th>\n",
       "      <th>Assignment Category</th>\n",
       "      <th>Salary Range</th>\n",
       "    </tr>\n",
       "  </thead>\n",
       "  <tbody>\n",
       "    <tr>\n",
       "      <th>9238</th>\n",
       "      <td>Millennial Generation</td>\n",
       "      <td>29</td>\n",
       "      <td>White (Not Hispanic or Latino)</td>\n",
       "      <td>Male</td>\n",
       "      <td>5</td>\n",
       "      <td>NON_MLS</td>\n",
       "      <td>P4</td>\n",
       "      <td>Fulltime-Regular</td>\n",
       "      <td>60-69K</td>\n",
       "    </tr>\n",
       "    <tr>\n",
       "      <th>9239</th>\n",
       "      <td>Millennial Generation</td>\n",
       "      <td>29</td>\n",
       "      <td>White (Not Hispanic or Latino)</td>\n",
       "      <td>Male</td>\n",
       "      <td>5</td>\n",
       "      <td>NON_MLS</td>\n",
       "      <td>P4</td>\n",
       "      <td>Fulltime-Regular</td>\n",
       "      <td>60-69K</td>\n",
       "    </tr>\n",
       "    <tr>\n",
       "      <th>9240</th>\n",
       "      <td>Millennial Generation</td>\n",
       "      <td>29</td>\n",
       "      <td>White (Not Hispanic or Latino)</td>\n",
       "      <td>Male</td>\n",
       "      <td>5</td>\n",
       "      <td>NON_MLS</td>\n",
       "      <td>P4</td>\n",
       "      <td>Fulltime-Regular</td>\n",
       "      <td>60-69K</td>\n",
       "    </tr>\n",
       "    <tr>\n",
       "      <th>9241</th>\n",
       "      <td>Millennial Generation</td>\n",
       "      <td>29</td>\n",
       "      <td>White (Not Hispanic or Latino)</td>\n",
       "      <td>Male</td>\n",
       "      <td>5</td>\n",
       "      <td>NON_MLS</td>\n",
       "      <td>P4</td>\n",
       "      <td>Fulltime-Regular</td>\n",
       "      <td>60-69K</td>\n",
       "    </tr>\n",
       "    <tr>\n",
       "      <th>9242</th>\n",
       "      <td>Generation X</td>\n",
       "      <td>51</td>\n",
       "      <td>Hispanic or Latino</td>\n",
       "      <td>Male</td>\n",
       "      <td>23</td>\n",
       "      <td>NON_MLS</td>\n",
       "      <td>P4</td>\n",
       "      <td>Fulltime-Regular</td>\n",
       "      <td>90-99K</td>\n",
       "    </tr>\n",
       "  </tbody>\n",
       "</table>\n",
       "</div>"
      ],
      "text/plain": [
       "                 Generation  Age                   Ethnic Origin Gender  \\\n",
       "9238  Millennial Generation   29  White (Not Hispanic or Latino)   Male   \n",
       "9239  Millennial Generation   29  White (Not Hispanic or Latino)   Male   \n",
       "9240  Millennial Generation   29  White (Not Hispanic or Latino)   Male   \n",
       "9241  Millennial Generation   29  White (Not Hispanic or Latino)   Male   \n",
       "9242           Generation X   51              Hispanic or Latino   Male   \n",
       "\n",
       "      Length Of Service Job Class Grade Assignment Category Salary Range  \n",
       "9238                  5   NON_MLS    P4    Fulltime-Regular       60-69K  \n",
       "9239                  5   NON_MLS    P4    Fulltime-Regular       60-69K  \n",
       "9240                  5   NON_MLS    P4    Fulltime-Regular       60-69K  \n",
       "9241                  5   NON_MLS    P4    Fulltime-Regular       60-69K  \n",
       "9242                 23   NON_MLS    P4    Fulltime-Regular       90-99K  "
      ]
     },
     "execution_count": 56,
     "metadata": {},
     "output_type": "execute_result"
    }
   ],
   "source": [
    "#make numeric value column based on string value column\n",
    "\n",
    "#create a function that will return 1 if female and 0 if male\n",
    "def score_to_numeric(x):\n",
    "    if x=='female':\n",
    "        return 1\n",
    "    if x=='male':\n",
    "        return 0\n",
    "    \n",
    "df['gender_val'] = df_missing['Gender'].apply(score_to_numeric)\n",
    "df_missing.tail()"
   ]
  },
  {
   "cell_type": "code",
   "execution_count": 62,
   "metadata": {},
   "outputs": [
    {
     "data": {
      "text/html": [
       "<div>\n",
       "<style scoped>\n",
       "    .dataframe tbody tr th:only-of-type {\n",
       "        vertical-align: middle;\n",
       "    }\n",
       "\n",
       "    .dataframe tbody tr th {\n",
       "        vertical-align: top;\n",
       "    }\n",
       "\n",
       "    .dataframe thead th {\n",
       "        text-align: right;\n",
       "    }\n",
       "</style>\n",
       "<table border=\"1\" class=\"dataframe\">\n",
       "  <thead>\n",
       "    <tr style=\"text-align: right;\">\n",
       "      <th></th>\n",
       "      <th></th>\n",
       "      <th>Age</th>\n",
       "      <th>Length Of Service</th>\n",
       "    </tr>\n",
       "    <tr>\n",
       "      <th>Gender</th>\n",
       "      <th>Assignment Category</th>\n",
       "      <th></th>\n",
       "      <th></th>\n",
       "    </tr>\n",
       "  </thead>\n",
       "  <tbody>\n",
       "    <tr>\n",
       "      <th rowspan=\"2\" valign=\"top\">Female</th>\n",
       "      <th>Fulltime-Regular</th>\n",
       "      <td>48.643296</td>\n",
       "      <td>13.216155</td>\n",
       "    </tr>\n",
       "    <tr>\n",
       "      <th>Parttime-Regular</th>\n",
       "      <td>53.276562</td>\n",
       "      <td>11.945312</td>\n",
       "    </tr>\n",
       "    <tr>\n",
       "      <th rowspan=\"2\" valign=\"top\">Male</th>\n",
       "      <th>Fulltime-Regular</th>\n",
       "      <td>45.617499</td>\n",
       "      <td>12.925594</td>\n",
       "    </tr>\n",
       "    <tr>\n",
       "      <th>Parttime-Regular</th>\n",
       "      <td>48.880503</td>\n",
       "      <td>6.534591</td>\n",
       "    </tr>\n",
       "  </tbody>\n",
       "</table>\n",
       "</div>"
      ],
      "text/plain": [
       "                                  Age  Length Of Service\n",
       "Gender Assignment Category                              \n",
       "Female Fulltime-Regular     48.643296          13.216155\n",
       "       Parttime-Regular     53.276562          11.945312\n",
       "Male   Fulltime-Regular     45.617499          12.925594\n",
       "       Parttime-Regular     48.880503           6.534591"
      ]
     },
     "execution_count": 62,
     "metadata": {},
     "output_type": "execute_result"
    }
   ],
   "source": [
    "df.groupby(['Gender', 'Assignment Category']).mean()"
   ]
  },
  {
   "cell_type": "code",
   "execution_count": 64,
   "metadata": {},
   "outputs": [
    {
     "data": {
      "text/plain": [
       "Fulltime-Regular    8444\n",
       "Parttime-Regular     799\n",
       "Name: Assignment Category, dtype: int64"
      ]
     },
     "execution_count": 64,
     "metadata": {},
     "output_type": "execute_result"
    }
   ],
   "source": [
    "df['Assignment Category'].value_counts()"
   ]
  },
  {
   "cell_type": "code",
   "execution_count": 66,
   "metadata": {},
   "outputs": [
    {
     "data": {
      "text/plain": [
       "Male      5508\n",
       "Female    3735\n",
       "Name: Gender, dtype: int64"
      ]
     },
     "execution_count": 66,
     "metadata": {},
     "output_type": "execute_result"
    }
   ],
   "source": [
    "df['Gender'].value_counts()"
   ]
  },
  {
   "cell_type": "code",
   "execution_count": 67,
   "metadata": {},
   "outputs": [
    {
     "data": {
      "text/plain": [
       "Fulltime-Regular    8444\n",
       "Parttime-Regular     799\n",
       "Name: Assignment Category, dtype: int64"
      ]
     },
     "execution_count": 67,
     "metadata": {},
     "output_type": "execute_result"
    }
   ],
   "source": [
    "df['Assignment Category'].value_counts()"
   ]
  },
  {
   "cell_type": "code",
   "execution_count": null,
   "metadata": {},
   "outputs": [],
   "source": []
  }
 ],
 "metadata": {
  "kernelspec": {
   "display_name": "Python 3",
   "language": "python",
   "name": "python3"
  },
  "language_info": {
   "codemirror_mode": {
    "name": "ipython",
    "version": 3
   },
   "file_extension": ".py",
   "mimetype": "text/x-python",
   "name": "python",
   "nbconvert_exporter": "python",
   "pygments_lexer": "ipython3",
   "version": "3.7.3"
  }
 },
 "nbformat": 4,
 "nbformat_minor": 2
}
