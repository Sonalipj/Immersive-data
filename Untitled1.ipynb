{
 "cells": [
  {
   "cell_type": "code",
   "execution_count": null,
   "metadata": {},
   "outputs": [],
   "source": [
    "#check if a 'bgg.ldaOut.top.documents', exists \n",
    "engine.has_table('bgg.ldaOut.top.documents')\n",
    "\n"
   ]
  },
  {
   "cell_type": "code",
   "execution_count": null,
   "metadata": {},
   "outputs": [],
   "source": [
    "# get the fields (columns) and their attributes for the table called \"test\"\n",
    "#this is a list where each item is a field(column)\n",
    "print(inspector.get_columns('bgg.ldaOut.top.documents'))"
   ]
  },
  {
   "cell_type": "code",
   "execution_count": null,
   "metadata": {},
   "outputs": [],
   "source": [
    "#set the table column information to a variable\n",
    "fields = inspector.get_columns('bgg.ldaOut.top.documents')\n",
    "#put the information into a dataframe for readability\n",
    "field_names = pd.DataFrame.from_dict(fields)\n",
    "field_names"
   ]
  },
  {
   "cell_type": "code",
   "execution_count": null,
   "metadata": {},
   "outputs": [],
   "source": [
    "'BoardGames',\n",
    " 'bgg.ldaOut.top.documents',\n",
    " 'bgg.ldaOut.top.terms',\n",
    " 'bgg.ldaOut.topics',\n",
    " 'bgg.topics'"
   ]
  },
  {
   "cell_type": "code",
   "execution_count": null,
   "metadata": {},
   "outputs": [],
   "source": [
    "for name in engine.table_names():\n",
    "    fields[0] = inspector.get_columns('name')"
   ]
  },
  {
   "cell_type": "code",
   "execution_count": null,
   "metadata": {},
   "outputs": [],
   "source": [
    "BoardGames\n",
    "bgg.ldaOut.top.documents\n",
    "bgg.ldaOut.top.terms\n",
    "bgg.ldaOut.topics\n",
    "bgg.topics"
   ]
  }
 ],
 "metadata": {
  "kernelspec": {
   "display_name": "Python 3",
   "language": "python",
   "name": "python3"
  },
  "language_info": {
   "codemirror_mode": {
    "name": "ipython",
    "version": 3
   },
   "file_extension": ".py",
   "mimetype": "text/x-python",
   "name": "python",
   "nbconvert_exporter": "python",
   "pygments_lexer": "ipython3",
   "version": "3.7.3"
  }
 },
 "nbformat": 4,
 "nbformat_minor": 2
}
